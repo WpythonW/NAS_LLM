{
 "cells": [
  {
   "cell_type": "code",
   "execution_count": 1,
   "id": "06631850",
   "metadata": {},
   "outputs": [],
   "source": [
    "from llm_opt_toolkit.prompt_builder import build_prompt\n",
    "from llm_opt_toolkit.optimization_journal import  Journal\n",
    "from llm_opt_toolkit.llm_requester import call_llm\n",
    "from IPython.display import Markdown, display\n",
    "from config import GRIDS, InformerConfig, build_llm_list_config, get_train_config\n",
    "from pprint import pprint\n",
    "\n",
    "grid = GRIDS['grid12']\n",
    "journal = Journal(filename='ETTh2-pred_len=24;th_b=8192;hypot.json')\n",
    "history_table = journal.get_history_table()\n",
    "prompt = build_prompt(grid, 1, history_table)\n",
    "ListConfigs = build_llm_list_config(grid)"
   ]
  },
  {
   "cell_type": "code",
   "execution_count": 2,
   "id": "cf2ca9a4",
   "metadata": {},
   "outputs": [
    {
     "name": "stdout",
     "output_type": "stream",
     "text": [
      "{'e_layers': 2,\n",
      " 'factor': 8,\n",
      " 'hypothesis': 'Мы тестируем, может ли более высокий фактор (8) улучшить '\n",
      "               'обобщение на оптимальном коротком контексте (48ч) и '\n",
      "               'высокопараллельной/низкоглубинной архитектуре (2 слоя, 16 '\n",
      "               'голов). Это проверяет, может ли более широкий, но быстрый '\n",
      "               'отбор зависимостей обеспечить лучшее обобщение, чем '\n",
      "               'сфокусированное внимание (factor 3/5).',\n",
      " 'label_len': 24,\n",
      " 'n_heads': 16,\n",
      " 'seq_len': 48}\n"
     ]
    }
   ],
   "source": [
    "scheme = call_llm(prompt, ListConfigs, temperature=0.7, thinking_budget=8192)\n",
    "cfg = scheme[0]\n",
    "pprint(cfg.model_dump())"
   ]
  },
  {
   "cell_type": "code",
   "execution_count": 3,
   "id": "fa41cb27",
   "metadata": {},
   "outputs": [
    {
     "name": "stdout",
     "output_type": "stream",
     "text": [
      "{'activation': 'gelu',\n",
      " 'attn': 'prob',\n",
      " 'batch_size': 32,\n",
      " 'c_out': 1,\n",
      " 'checkpoints': './informer_checkpoints',\n",
      " 'd_ff': 2048,\n",
      " 'd_layers': 1,\n",
      " 'd_model': 512,\n",
      " 'data': 'custom',\n",
      " 'dec_in': 7,\n",
      " 'des': 'llm_search',\n",
      " 'detail_freq': 'h',\n",
      " 'device_ids': [],\n",
      " 'devices': '',\n",
      " 'distil': True,\n",
      " 'dropout': 0.05,\n",
      " 'e_layers': 2,\n",
      " 'embed': 'timeF',\n",
      " 'enc_in': 7,\n",
      " 'factor': 8,\n",
      " 'features': 'MS',\n",
      " 'freq': 'h',\n",
      " 'gpu': None,\n",
      " 'hypothesis': 'Мы тестируем, может ли более высокий фактор (8) улучшить '\n",
      "               'обобщение на оптимальном коротком контексте (48ч) и '\n",
      "               'высокопараллельной/низкоглубинной архитектуре (2 слоя, 16 '\n",
      "               'голов). Это проверяет, может ли более широкий, но быстрый '\n",
      "               'отбор зависимостей обеспечить лучшее обобщение, чем '\n",
      "               'сфокусированное внимание (factor 3/5).',\n",
      " 'itr': 1,\n",
      " 'label_len': 24,\n",
      " 'learning_rate': 0.0001,\n",
      " 'loss': 'mse',\n",
      " 'lradj': 'type1',\n",
      " 'mix': True,\n",
      " 'model': 'informer',\n",
      " 'n_heads': 16,\n",
      " 'num_workers': 0,\n",
      " 'output_attention': False,\n",
      " 'padding': 0,\n",
      " 'patience': 3,\n",
      " 'pred_len': 24,\n",
      " 'root_path': './',\n",
      " 'seq_len': 48,\n",
      " 'target': 'OT',\n",
      " 'train_epochs': 6,\n",
      " 'use_amp': False,\n",
      " 'use_gpu': False,\n",
      " 'use_multi_gpu': False}\n"
     ]
    }
   ],
   "source": [
    "train_cfg = get_train_config(cfg, pred_len=24)\n",
    "pprint(train_cfg.model_dump())"
   ]
  },
  {
   "cell_type": "code",
   "execution_count": 4,
   "id": "424b2e5d",
   "metadata": {},
   "outputs": [
    {
     "name": "stdout",
     "output_type": "stream",
     "text": [
      "[1/10] seq_len=48 label_len=24 e_layers=2 n_heads=16 factor=8 "
     ]
    }
   ],
   "source": [
    "params_str = ' '.join(f\"{k}={v}\" for k, v in cfg.__dict__.items() if k != 'hypothesis')\n",
    "print(f\"[1/10] {params_str}\", end=' ')\n",
    "# [1/10] seq_len=48 label_len=24 e_layers=3 n_heads=16 factor=5\n",
    "# [1/10] seq_len=48 label_len=24 e_layers=3 n_heads=16 factor=10 d_model=768 d_ff=3072 d_layers=1 dropout=0.1"
   ]
  },
  {
   "cell_type": "code",
   "execution_count": 5,
   "id": "a4bf37f0",
   "metadata": {},
   "outputs": [],
   "source": [
    "from llm_opt_toolkit.train import train_informer"
   ]
  },
  {
   "cell_type": "code",
   "execution_count": null,
   "id": "a5b63d17",
   "metadata": {},
   "outputs": [],
   "source": [
    "measures = train_informer('/Users/andrejustinov/Desktop/nas_project/data/ETTh1_prepared.csv', train_cfg, 24)"
   ]
  }
 ],
 "metadata": {
  "kernelspec": {
   "display_name": "nas_project",
   "language": "python",
   "name": "python3"
  },
  "language_info": {
   "codemirror_mode": {
    "name": "ipython",
    "version": 3
   },
   "file_extension": ".py",
   "mimetype": "text/x-python",
   "name": "python",
   "nbconvert_exporter": "python",
   "pygments_lexer": "ipython3",
   "version": "3.10.16"
  }
 },
 "nbformat": 4,
 "nbformat_minor": 5
}
