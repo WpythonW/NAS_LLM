{
 "cells": [
  {
   "cell_type": "code",
   "execution_count": 1,
   "metadata": {
    "_cell_guid": "b1076dfc-b9ad-4769-8c92-a6c4dae69d19",
    "_uuid": "8f2839f25d086af736a60e9eeb907d3b93b6e0e5",
    "execution": {
     "iopub.execute_input": "2025-10-05T13:00:10.144601Z",
     "iopub.status.busy": "2025-10-05T13:00:10.144079Z",
     "iopub.status.idle": "2025-10-05T13:00:10.507321Z",
     "shell.execute_reply": "2025-10-05T13:00:10.506643Z",
     "shell.execute_reply.started": "2025-10-05T13:00:10.144576Z"
    },
    "trusted": true
   },
   "outputs": [
    {
     "name": "stdout",
     "output_type": "stream",
     "text": [
      "fatal: destination path 'Informer2020' already exists and is not an empty directory.\n",
      "fatal: destination path 'ETDataset' already exists and is not an empty directory.\n",
      "ETDataset  Informer2020  informer_checkpoints  results\n"
     ]
    }
   ],
   "source": [
    "!git clone https://github.com/zhouhaoyi/Informer2020.git\n",
    "!git clone https://github.com/zhouhaoyi/ETDataset.git\n",
    "!ls"
   ]
  },
  {
   "cell_type": "code",
   "execution_count": null,
   "metadata": {
    "execution": {
     "iopub.execute_input": "2025-10-05T13:00:12.650510Z",
     "iopub.status.busy": "2025-10-05T13:00:12.649741Z",
     "iopub.status.idle": "2025-10-05T13:00:12.654270Z",
     "shell.execute_reply": "2025-10-05T13:00:12.653560Z",
     "shell.execute_reply.started": "2025-10-05T13:00:12.650461Z"
    },
    "trusted": true
   },
   "outputs": [],
   "source": [
    "import os\n",
    "\n",
    "os.environ['mistral'] = 'API Key'"
   ]
  },
  {
   "cell_type": "code",
   "execution_count": 3,
   "metadata": {
    "execution": {
     "iopub.execute_input": "2025-10-05T13:00:15.275808Z",
     "iopub.status.busy": "2025-10-05T13:00:15.275223Z",
     "iopub.status.idle": "2025-10-05T13:00:15.279373Z",
     "shell.execute_reply": "2025-10-05T13:00:15.278745Z",
     "shell.execute_reply.started": "2025-10-05T13:00:15.275783Z"
    },
    "trusted": true
   },
   "outputs": [],
   "source": [
    "import sys\n",
    "if not 'Informer2020' in sys.path:\n",
    "    sys.path += ['Informer2020']"
   ]
  },
  {
   "cell_type": "code",
   "execution_count": 4,
   "metadata": {
    "execution": {
     "iopub.execute_input": "2025-10-05T13:00:16.651362Z",
     "iopub.status.busy": "2025-10-05T13:00:16.650912Z",
     "iopub.status.idle": "2025-10-05T13:01:31.175003Z",
     "shell.execute_reply": "2025-10-05T13:01:31.174095Z",
     "shell.execute_reply.started": "2025-10-05T13:00:16.651338Z"
    },
    "trusted": true
   },
   "outputs": [],
   "source": [
    "%%capture\n",
    "!pip install mistralai\n",
    "!pip install -r ./Informer2020/requirements.txt"
   ]
  },
  {
   "cell_type": "code",
   "execution_count": 30,
   "metadata": {
    "execution": {
     "iopub.execute_input": "2025-10-05T13:25:15.962935Z",
     "iopub.status.busy": "2025-10-05T13:25:15.962198Z",
     "iopub.status.idle": "2025-10-05T13:25:15.966649Z",
     "shell.execute_reply": "2025-10-05T13:25:15.965929Z",
     "shell.execute_reply.started": "2025-10-05T13:25:15.962907Z"
    },
    "trusted": true
   },
   "outputs": [],
   "source": [
    "from utils.tools import dotdict\n",
    "from exp.exp_informer import Exp_Informer\n",
    "import torch\n",
    "from mistralai import Mistral\n",
    "import copy\n",
    "import numpy as np\n",
    "import pandas as pd\n",
    "from tqdm import tqdm\n",
    "import random"
   ]
  },
  {
   "cell_type": "code",
   "execution_count": 68,
   "metadata": {
    "execution": {
     "iopub.execute_input": "2025-10-05T14:02:06.112311Z",
     "iopub.status.busy": "2025-10-05T14:02:06.111609Z",
     "iopub.status.idle": "2025-10-05T14:02:06.116938Z",
     "shell.execute_reply": "2025-10-05T14:02:06.116126Z",
     "shell.execute_reply.started": "2025-10-05T14:02:06.112288Z"
    },
    "trusted": true
   },
   "outputs": [],
   "source": [
    "main_args = {\n",
    "    'model': 'informer',\n",
    "    'data': 'ETTh1',\n",
    "    'root_path': './ETDataset/ETT-small/',\n",
    "    'data_path': 'ETTh1.csv',\n",
    "    'features': 'M',\n",
    "    'target': 'OT',\n",
    "    'freq': 'h',\n",
    "    'checkpoints': './informer_checkpoints',\n",
    "    'seq_len': 96,\n",
    "    'label_len': 48,\n",
    "    'pred_len': 24,\n",
    "    'enc_in': 7,\n",
    "    'dec_in': 7,\n",
    "    'c_out': 7,\n",
    "\n",
    "    'des': 'exp',\n",
    "    'use_gpu': True,\n",
    "    'gpu': 0,\n",
    "    'use_multi_gpu': False,\n",
    "    'devices': '0',\n",
    "    'detail_freq': 'h',\n",
    "\n",
    "    'loss': 'mse',\n",
    "    'lradj': 'type1',\n",
    "    'use_amp': False,\n",
    "    'num_workers': 0,\n",
    "\n",
    "    'distil': True,\n",
    "    'output_attention': False,\n",
    "    'mix': True,\n",
    "\n",
    "    'dropout': 0.05,\n",
    "    'padding': 0,\n",
    "    'activation': 'gelu',\n",
    "    'patience': 3,\n",
    "    \"batch_size\": 32,\n",
    "    \"itr\": 2,\n",
    "    \"learning_rate\": 1e-4,\n",
    "    \"attn\": \"full\",\n",
    "    \"n_heads\": 8\n",
    "    \n",
    "}\n",
    "# dotdict(main_args).c_out"
   ]
  },
  {
   "cell_type": "code",
   "execution_count": 72,
   "metadata": {
    "execution": {
     "iopub.execute_input": "2025-10-05T14:02:24.751813Z",
     "iopub.status.busy": "2025-10-05T14:02:24.751087Z",
     "iopub.status.idle": "2025-10-05T14:02:24.757289Z",
     "shell.execute_reply": "2025-10-05T14:02:24.756768Z",
     "shell.execute_reply.started": "2025-10-05T14:02:24.751787Z"
    },
    "trusted": true
   },
   "outputs": [
    {
     "data": {
      "text/plain": [
       "{'factor': [4, 6, 8],\n",
       " 'd_model': [256, 512, 1024],\n",
       " 'e_layers': [2, 4],\n",
       " 'd_layers': [2, 4],\n",
       " 'd_ff': [1024, 2048],\n",
       " 'embed': ['timeF', 'fixed', 'learned'],\n",
       " 'learning_rate': [0.0001],\n",
       " 'train_epochs': [6, 8, 10]}"
      ]
     },
     "execution_count": 72,
     "metadata": {},
     "output_type": "execute_result"
    }
   ],
   "source": [
    "search_space = {\n",
    "    'factor': [i for i in range(4, 10, 2)],\n",
    "    'd_model': [256, 512, 1024],\n",
    "    # 'n_heads': [4],\n",
    "    'e_layers': [2, 4],\n",
    "    'd_layers': [2, 4],\n",
    "    'd_ff': [1024, 2048],\n",
    "    \n",
    "    # 'attn': ['prob', \"full\"],\n",
    "    'embed': ['timeF', \"fixed\", \"learned\"],\n",
    "    'learning_rate': [1e-4],\n",
    "    'train_epochs': [6, 8, 10],\n",
    "}\n",
    "\n",
    "search_space"
   ]
  },
  {
   "cell_type": "code",
   "execution_count": 73,
   "metadata": {
    "execution": {
     "iopub.execute_input": "2025-10-05T14:02:28.054927Z",
     "iopub.status.busy": "2025-10-05T14:02:28.054658Z",
     "iopub.status.idle": "2025-10-05T14:02:28.063419Z",
     "shell.execute_reply": "2025-10-05T14:02:28.062549Z",
     "shell.execute_reply.started": "2025-10-05T14:02:28.054907Z"
    },
    "trusted": true
   },
   "outputs": [],
   "source": [
    "from itertools import product\n",
    "\n",
    "def create_architecture_space(space, main_args):\n",
    "    # Получаем список ключей в фиксированном порядке\n",
    "    keys = list(space.keys())\n",
    "    \n",
    "    # Получаем списки индексов для каждого параметра\n",
    "    index_ranges = [range(len(space[key])) for key in keys]\n",
    "    \n",
    "    # Создаём словарь с закодированными ключами\n",
    "    config_dict = {}\n",
    "    \n",
    "    for indices in product(*index_ranges):\n",
    "        # Формируем строку индексов (например, '000000000000')\n",
    "        index_str = ''.join(str(i) for i in indices)\n",
    "        \n",
    "        # Формируем словарь значений для текущей комбинации\n",
    "        config = {key: space[key][idx] for key, idx in zip(keys, indices)}\n",
    "        \n",
    "        config_dict[index_str] = config\n",
    "        config_dict[index_str].update(main_args)\n",
    "        \n",
    "    return config_dict\n",
    "\n",
    "\n",
    "architecture  = create_architecture_space(\n",
    "    space = search_space,\n",
    "    main_args = main_args\n",
    ")"
   ]
  },
  {
   "cell_type": "code",
   "execution_count": 74,
   "metadata": {
    "execution": {
     "iopub.execute_input": "2025-10-05T14:02:30.221710Z",
     "iopub.status.busy": "2025-10-05T14:02:30.220976Z",
     "iopub.status.idle": "2025-10-05T14:02:30.225978Z",
     "shell.execute_reply": "2025-10-05T14:02:30.225345Z",
     "shell.execute_reply.started": "2025-10-05T14:02:30.221686Z"
    },
    "trusted": true
   },
   "outputs": [
    {
     "data": {
      "text/plain": [
       "648"
      ]
     },
     "execution_count": 74,
     "metadata": {},
     "output_type": "execute_result"
    }
   ],
   "source": [
    "len(architecture)"
   ]
  },
  {
   "cell_type": "markdown",
   "metadata": {},
   "source": [
    "## Шаг 1. Накапливание статистики"
   ]
  },
  {
   "cell_type": "code",
   "execution_count": null,
   "metadata": {
    "trusted": true
   },
   "outputs": [],
   "source": [
    "def get_history(architecture_dict, n = 50):\n",
    "    sample = random.sample(list(architecture_dict.keys()), k = n)\n",
    "\n",
    "    history = {\"architecture_code\": [], \"mse\": []}\n",
    "\n",
    "    for arch in tqdm(sample):\n",
    "        config = dotdict(architecture_dict[arch])\n",
    "        Exp = Exp_Informer\n",
    "        exp = Exp(config)\n",
    "\n",
    "        # train\n",
    "        res_train = exp.train(arch)\n",
    "        \n",
    "        # test\n",
    "        res_test = exp.test(arch)\n",
    "        \n",
    "        torch.cuda.empty_cache()\n",
    "    \n",
    "        metrics = np.load(f'/kaggle/working/results/{arch}/metrics.npy')\n",
    "        mae, mse, rmse, mape, mspe = metrics\n",
    "        \n",
    "        history[\"architecture_code\"].append(arch)\n",
    "        history[\"mse\"].append(mse)\n",
    "\n",
    "    return pd.DataFrame(history)\n",
    "\n",
    "\n",
    "history = get_history(\n",
    "    architecture_dict = architecture,\n",
    "    n = 20\n",
    ")"
   ]
  },
  {
   "cell_type": "code",
   "execution_count": 120,
   "metadata": {
    "execution": {
     "iopub.execute_input": "2025-10-05T15:29:28.043640Z",
     "iopub.status.busy": "2025-10-05T15:29:28.043315Z",
     "iopub.status.idle": "2025-10-05T15:29:28.048570Z",
     "shell.execute_reply": "2025-10-05T15:29:28.048007Z",
     "shell.execute_reply.started": "2025-10-05T15:29:28.043616Z"
    },
    "trusted": true
   },
   "outputs": [],
   "source": [
    "history.to_csv(\"/kaggle/working/history.csv\", index = False)"
   ]
  },
  {
   "cell_type": "markdown",
   "metadata": {},
   "source": [
    "## Шаг 2. Обращаемся к LLM с накопленными сэмплами данных о некоторых архитектурах, чтобы она определила, какая архитектура лучше"
   ]
  },
  {
   "cell_type": "code",
   "execution_count": 129,
   "metadata": {
    "execution": {
     "iopub.execute_input": "2025-10-05T15:34:00.620572Z",
     "iopub.status.busy": "2025-10-05T15:34:00.620244Z",
     "iopub.status.idle": "2025-10-05T15:34:00.624208Z",
     "shell.execute_reply": "2025-10-05T15:34:00.623448Z",
     "shell.execute_reply.started": "2025-10-05T15:34:00.620545Z"
    },
    "trusted": true
   },
   "outputs": [],
   "source": [
    "import json"
   ]
  },
  {
   "cell_type": "code",
   "execution_count": 121,
   "metadata": {
    "execution": {
     "iopub.execute_input": "2025-10-05T15:29:29.249124Z",
     "iopub.status.busy": "2025-10-05T15:29:29.248411Z",
     "iopub.status.idle": "2025-10-05T15:29:29.253992Z",
     "shell.execute_reply": "2025-10-05T15:29:29.253430Z",
     "shell.execute_reply.started": "2025-10-05T15:29:29.249096Z"
    },
    "trusted": true
   },
   "outputs": [
    {
     "name": "stdout",
     "output_type": "stream",
     "text": [
      "|    |   architecture_code |      mse |\n",
      "|---:|--------------------:|---------:|\n",
      "|  0 |            02111102 | 0.8306   |\n",
      "|  1 |            11010202 | 0.862981 |\n",
      "|  2 |            11101102 | 0.724865 |\n",
      "|  3 |            01100002 | 0.689152 |\n",
      "|  4 |            11111000 | 0.577649 |\n",
      "|  5 |            02011201 | 0.819256 |\n",
      "|  6 |            00011001 | 0.666195 |\n",
      "|  7 |            12100201 | 0.819361 |\n",
      "|  8 |            22000102 | 1.00801  |\n",
      "|  9 |            10100000 | 0.745192 |\n",
      "| 10 |            22001102 | 0.969087 |\n",
      "| 11 |            01111002 | 0.77152  |\n",
      "| 12 |            22110000 | 0.649816 |\n",
      "| 13 |            20010001 | 0.79892  |\n",
      "| 14 |            12010102 | 0.852477 |\n",
      "| 15 |            12110002 | 0.737097 |\n",
      "| 16 |            20000101 | 0.780946 |\n",
      "| 17 |            02111002 | 0.511465 |\n",
      "| 18 |            11000201 | 0.717734 |\n",
      "| 19 |            11000102 | 0.889464 |\n"
     ]
    }
   ],
   "source": [
    "print(history.to_markdown() )"
   ]
  },
  {
   "cell_type": "code",
   "execution_count": 122,
   "metadata": {
    "execution": {
     "iopub.execute_input": "2025-10-05T15:29:32.265379Z",
     "iopub.status.busy": "2025-10-05T15:29:32.265109Z",
     "iopub.status.idle": "2025-10-05T15:29:32.269718Z",
     "shell.execute_reply": "2025-10-05T15:29:32.268951Z",
     "shell.execute_reply.started": "2025-10-05T15:29:32.265358Z"
    },
    "trusted": true
   },
   "outputs": [],
   "source": [
    "system = \"\"\"Ты ассистент для поиска лучшей архитектуры нейоросети для задачи Time-series-forecasting.\n",
    "На вход ты получаешь на вход \n",
    "1) N закодированный список архитектур;\n",
    "2) N метрик MSE на валидации для каждой архитекутры;\n",
    "3) K закодированных доступных архитекутр.\n",
    "\n",
    "Код архитектуры это набор индексов для каждого параметра из search_space\n",
    "search_space = {'factor': [4, 6, 8],\n",
    " 'd_model': [256, 512, 1024],\n",
    " 'e_layers': [2, 4],\n",
    " 'd_layers': [2, 4],\n",
    " 'd_ff': [1024, 2048],\n",
    " 'embed': ['timeF', 'fixed', 'learned'],\n",
    " 'learning_rate': [0.0001],\n",
    " 'train_epochs': [6, 8, 10]\n",
    " }\n",
    "\n",
    "\n",
    "Твоя задача прогнозировать код лучшей архитектуры из списка доступных архитектур основываясь на истории части кандидатов в формате JSON-object. \n",
    "Прогнозируй кандидата из списка доступных кандидатов. Не бери кандидата из истории\n",
    "Формат JSON-object\n",
    "{\"architecture\": str}\n",
    "\"\"\""
   ]
  },
  {
   "cell_type": "code",
   "execution_count": 123,
   "metadata": {
    "execution": {
     "iopub.execute_input": "2025-10-05T15:29:33.707385Z",
     "iopub.status.busy": "2025-10-05T15:29:33.706794Z",
     "iopub.status.idle": "2025-10-05T15:29:33.711073Z",
     "shell.execute_reply": "2025-10-05T15:29:33.710320Z",
     "shell.execute_reply.started": "2025-10-05T15:29:33.707362Z"
    },
    "trusted": true
   },
   "outputs": [],
   "source": [
    "user_prompt = \"\"\"\n",
    "Пожалуйста, проанализируйте историю, оцените кандидатов и сделай прогноз того кандидата, \n",
    "кто покажет самые лучший результат из всего списка кандидатов и верни json в формате {{\"architecture\": str}}\n",
    "Прогнозируй кандидата из списка доступных кандидатов. Не бери кандидата из истории\n",
    " \n",
    "History:\n",
    "{history}\n",
    "\n",
    "Candidate: \n",
    "{candidate}\n",
    "\"\"\""
   ]
  },
  {
   "cell_type": "code",
   "execution_count": 124,
   "metadata": {
    "execution": {
     "iopub.execute_input": "2025-10-05T15:29:34.743560Z",
     "iopub.status.busy": "2025-10-05T15:29:34.742861Z",
     "iopub.status.idle": "2025-10-05T15:29:34.747875Z",
     "shell.execute_reply": "2025-10-05T15:29:34.747205Z",
     "shell.execute_reply.started": "2025-10-05T15:29:34.743534Z"
    },
    "trusted": true
   },
   "outputs": [],
   "source": [
    "hist = history.to_markdown()\n",
    "cand = \"\\n\".join(list(architecture.keys()))"
   ]
  },
  {
   "cell_type": "code",
   "execution_count": 125,
   "metadata": {
    "execution": {
     "iopub.execute_input": "2025-10-05T15:29:39.077891Z",
     "iopub.status.busy": "2025-10-05T15:29:39.077286Z",
     "iopub.status.idle": "2025-10-05T15:29:39.081712Z",
     "shell.execute_reply": "2025-10-05T15:29:39.080941Z",
     "shell.execute_reply.started": "2025-10-05T15:29:39.077862Z"
    },
    "trusted": true
   },
   "outputs": [
    {
     "name": "stdout",
     "output_type": "stream",
     "text": [
      "\n",
      "Пожалуйста, проанализируйте историю, оцените кандидатов и сделай прогноз того кандидата, \n",
      "кто покажет самые лучший результат из всего списка кандидатов и верни json в формате {\"architecture\": str}\n",
      "Прогнозируй кандидата из списка доступных кандидатов. Не бери кандидата из истории\n",
      " \n",
      "History:\n",
      "|    |   architecture_code |      mse |\n",
      "|---:|--------------------:|---------:|\n",
      "|  0 |            02111102 | 0.8306   |\n",
      "|  1 |            11010202 | 0.862981 |\n",
      "|  2 |            11101102 | 0.724865 |\n",
      "|  3 |            01100002 | 0.689152 |\n",
      "|  4 |            11111000 | 0.577649 |\n",
      "|  5 |            02011201 | 0.819256 |\n",
      "|  6 |            00011001 | 0.666195 |\n",
      "|  7 |            12100201 | 0.819361 |\n",
      "|  8 |            22000102 | 1.00801  |\n",
      "|  9 |            10100000 | 0.745192 |\n",
      "| 10 |            22001102 | 0.969087 |\n",
      "| 11 |            01111002 | 0.77152  |\n",
      "| 12 |            22110000 | 0.649816 |\n",
      "| 13 |            20010001 | 0.79892  |\n",
      "| 14 |            12010102 | 0.852477 |\n",
      "| 15 |            12110002 |\n"
     ]
    }
   ],
   "source": [
    "user = user_prompt.format(\n",
    "    history = hist,\n",
    "    candidate = cand\n",
    ")\n",
    "\n",
    "print(user[:1000])"
   ]
  },
  {
   "cell_type": "code",
   "execution_count": 132,
   "metadata": {
    "execution": {
     "iopub.execute_input": "2025-10-05T15:48:27.020156Z",
     "iopub.status.busy": "2025-10-05T15:48:27.019611Z",
     "iopub.status.idle": "2025-10-05T16:10:51.842263Z",
     "shell.execute_reply": "2025-10-05T16:10:51.841632Z",
     "shell.execute_reply.started": "2025-10-05T15:48:27.020131Z"
    },
    "trusted": true
   },
   "outputs": [
    {
     "name": "stderr",
     "output_type": "stream",
     "text": [
      "  0%|          | 0/10 [00:00<?, ?it/s]"
     ]
    },
    {
     "name": "stdout",
     "output_type": "stream",
     "text": [
      "Use GPU: cuda:0\n",
      "train 8521\n",
      "val 2857\n",
      "test 2857\n",
      "\titers: 100, epoch: 1 | loss: 0.3798703\n",
      "\tspeed: 0.0982s/iter; left time: 146.9719s\n",
      "\titers: 200, epoch: 1 | loss: 0.2870650\n",
      "\tspeed: 0.0985s/iter; left time: 137.6163s\n",
      "Epoch: 1 cost time: 26.188100814819336\n",
      "Epoch: 1, Steps: 266 | Train Loss: 0.3744437 Vali Loss: 0.7535023 Test Loss: 0.7024012\n",
      "Validation loss decreased (inf --> 0.753502).  Saving model ...\n",
      "Updating learning rate to 0.0001\n",
      "\titers: 100, epoch: 2 | loss: 0.2411661\n",
      "\tspeed: 0.2204s/iter; left time: 271.3494s\n",
      "\titers: 200, epoch: 2 | loss: 0.2024616\n",
      "\tspeed: 0.0987s/iter; left time: 111.6475s\n",
      "Epoch: 2 cost time: 26.203690767288208\n",
      "Epoch: 2, Steps: 266 | Train Loss: 0.2258080 Vali Loss: 0.8176426 Test Loss: 0.8004386\n",
      "EarlyStopping counter: 1 out of 3\n",
      "Updating learning rate to 5e-05\n",
      "\titers: 100, epoch: 3 | loss: 0.1538645\n",
      "\tspeed: 0.2174s/iter; left time: 209.7671s\n",
      "\titers: 200, epoch: 3 | loss: 0.1370364\n",
      "\tspeed: 0.0985s/iter; left time: 85.2341s\n",
      "Epoch: 3 cost time: 26.19013810157776\n",
      "Epoch: 3, Steps: 266 | Train Loss: 0.1458549 Vali Loss: 0.8214279 Test Loss: 0.7326652\n",
      "EarlyStopping counter: 2 out of 3\n",
      "Updating learning rate to 2.5e-05\n",
      "\titers: 100, epoch: 4 | loss: 0.1058668\n",
      "\tspeed: 0.2172s/iter; left time: 151.8416s\n",
      "\titers: 200, epoch: 4 | loss: 0.1120621\n",
      "\tspeed: 0.0987s/iter; left time: 59.0922s\n",
      "Epoch: 4 cost time: 26.192079782485962\n",
      "Epoch: 4, Steps: 266 | Train Loss: 0.1131112 Vali Loss: 0.8289165 Test Loss: 0.7104355\n",
      "EarlyStopping counter: 3 out of 3\n",
      "Early stopping\n",
      "test 2857\n"
     ]
    },
    {
     "name": "stderr",
     "output_type": "stream",
     "text": [
      " 10%|█         | 1/10 [02:10<19:34, 130.51s/it]"
     ]
    },
    {
     "name": "stdout",
     "output_type": "stream",
     "text": [
      "test shape: (89, 32, 24, 7) (89, 32, 24, 7)\n",
      "test shape: (2848, 24, 7) (2848, 24, 7)\n",
      "mse:0.7024012207984924, mae:0.641295313835144\n",
      "Use GPU: cuda:0\n",
      "train 8521\n",
      "val 2857\n",
      "test 2857\n",
      "\titers: 100, epoch: 1 | loss: 0.3916713\n",
      "\tspeed: 0.0980s/iter; left time: 146.6436s\n",
      "\titers: 200, epoch: 1 | loss: 0.2705301\n",
      "\tspeed: 0.0986s/iter; left time: 137.7103s\n",
      "Epoch: 1 cost time: 26.172691345214844\n",
      "Epoch: 1, Steps: 266 | Train Loss: 0.3739904 Vali Loss: 0.6958745 Test Loss: 0.5930820\n",
      "Validation loss decreased (inf --> 0.695875).  Saving model ...\n",
      "Updating learning rate to 0.0001\n",
      "\titers: 100, epoch: 2 | loss: 0.2246305\n",
      "\tspeed: 0.2229s/iter; left time: 274.3924s\n",
      "\titers: 200, epoch: 2 | loss: 0.2194930\n",
      "\tspeed: 0.0989s/iter; left time: 111.8640s\n",
      "Epoch: 2 cost time: 26.28778052330017\n",
      "Epoch: 2, Steps: 266 | Train Loss: 0.2223120 Vali Loss: 0.7732815 Test Loss: 0.6458002\n",
      "EarlyStopping counter: 1 out of 3\n",
      "Updating learning rate to 5e-05\n",
      "\titers: 100, epoch: 3 | loss: 0.1298392\n",
      "\tspeed: 0.2182s/iter; left time: 210.5871s\n",
      "\titers: 200, epoch: 3 | loss: 0.1332688\n",
      "\tspeed: 0.0991s/iter; left time: 85.7015s\n",
      "Epoch: 3 cost time: 26.302778959274292\n",
      "Epoch: 3, Steps: 266 | Train Loss: 0.1440459 Vali Loss: 0.7591994 Test Loss: 0.6548938\n",
      "EarlyStopping counter: 2 out of 3\n",
      "Updating learning rate to 2.5e-05\n",
      "\titers: 100, epoch: 4 | loss: 0.1238345\n",
      "\tspeed: 0.2184s/iter; left time: 152.6383s\n",
      "\titers: 200, epoch: 4 | loss: 0.1039734\n",
      "\tspeed: 0.0991s/iter; left time: 59.3310s\n",
      "Epoch: 4 cost time: 26.313913106918335\n",
      "Epoch: 4, Steps: 266 | Train Loss: 0.1115403 Vali Loss: 0.7660128 Test Loss: 0.6625129\n",
      "EarlyStopping counter: 3 out of 3\n",
      "Early stopping\n",
      "test 2857\n"
     ]
    },
    {
     "name": "stderr",
     "output_type": "stream",
     "text": [
      " 20%|██        | 2/10 [04:22<17:31, 131.46s/it]"
     ]
    },
    {
     "name": "stdout",
     "output_type": "stream",
     "text": [
      "test shape: (89, 32, 24, 7) (89, 32, 24, 7)\n",
      "test shape: (2848, 24, 7) (2848, 24, 7)\n",
      "mse:0.5930818915367126, mae:0.5749690532684326\n",
      "Use GPU: cuda:0\n",
      "train 8521\n",
      "val 2857\n",
      "test 2857\n",
      "\titers: 100, epoch: 1 | loss: 0.3557484\n",
      "\tspeed: 0.0982s/iter; left time: 147.0227s\n",
      "\titers: 200, epoch: 1 | loss: 0.2830397\n",
      "\tspeed: 0.0988s/iter; left time: 138.0255s\n",
      "Epoch: 1 cost time: 26.243001222610474\n",
      "Epoch: 1, Steps: 266 | Train Loss: 0.3791349 Vali Loss: 0.6972364 Test Loss: 0.6605865\n",
      "Validation loss decreased (inf --> 0.697236).  Saving model ...\n",
      "Updating learning rate to 0.0001\n",
      "\titers: 100, epoch: 2 | loss: 0.2326740\n",
      "\tspeed: 0.2199s/iter; left time: 270.6529s\n",
      "\titers: 200, epoch: 2 | loss: 0.2270464\n",
      "\tspeed: 0.0987s/iter; left time: 111.5818s\n",
      "Epoch: 2 cost time: 26.204808712005615\n",
      "Epoch: 2, Steps: 266 | Train Loss: 0.2268419 Vali Loss: 0.7006574 Test Loss: 0.6779624\n",
      "EarlyStopping counter: 1 out of 3\n",
      "Updating learning rate to 5e-05\n",
      "\titers: 100, epoch: 3 | loss: 0.1616851\n",
      "\tspeed: 0.2180s/iter; left time: 210.3855s\n",
      "\titers: 200, epoch: 3 | loss: 0.1513864\n",
      "\tspeed: 0.0987s/iter; left time: 85.4135s\n",
      "Epoch: 3 cost time: 26.214073657989502\n",
      "Epoch: 3, Steps: 266 | Train Loss: 0.1500205 Vali Loss: 0.8038880 Test Loss: 0.6673934\n",
      "EarlyStopping counter: 2 out of 3\n",
      "Updating learning rate to 2.5e-05\n",
      "\titers: 100, epoch: 4 | loss: 0.1060666\n",
      "\tspeed: 0.2175s/iter; left time: 152.0452s\n",
      "\titers: 200, epoch: 4 | loss: 0.1085479\n",
      "\tspeed: 0.0987s/iter; left time: 59.1130s\n",
      "Epoch: 4 cost time: 26.205659866333008\n",
      "Epoch: 4, Steps: 266 | Train Loss: 0.1171844 Vali Loss: 0.7703118 Test Loss: 0.6548930\n",
      "EarlyStopping counter: 3 out of 3\n",
      "Early stopping\n",
      "test 2857\n"
     ]
    },
    {
     "name": "stderr",
     "output_type": "stream",
     "text": [
      " 30%|███       | 3/10 [06:33<15:19, 131.41s/it]"
     ]
    },
    {
     "name": "stdout",
     "output_type": "stream",
     "text": [
      "test shape: (89, 32, 24, 7) (89, 32, 24, 7)\n",
      "test shape: (2848, 24, 7) (2848, 24, 7)\n",
      "mse:0.6605864763259888, mae:0.5956805944442749\n",
      "Use GPU: cuda:0\n",
      "train 8521\n",
      "val 2857\n",
      "test 2857\n",
      "\titers: 100, epoch: 1 | loss: 0.4477531\n",
      "\tspeed: 0.0982s/iter; left time: 146.9854s\n",
      "\titers: 200, epoch: 1 | loss: 0.2664285\n",
      "\tspeed: 0.0988s/iter; left time: 137.9552s\n",
      "Epoch: 1 cost time: 26.240517616271973\n",
      "Epoch: 1, Steps: 266 | Train Loss: 0.3728902 Vali Loss: 0.6975731 Test Loss: 0.7119102\n",
      "Validation loss decreased (inf --> 0.697573).  Saving model ...\n",
      "Updating learning rate to 0.0001\n",
      "\titers: 100, epoch: 2 | loss: 0.2180361\n",
      "\tspeed: 0.2213s/iter; left time: 272.3979s\n",
      "\titers: 200, epoch: 2 | loss: 0.1882239\n",
      "\tspeed: 0.0987s/iter; left time: 111.6049s\n",
      "Epoch: 2 cost time: 26.216893196105957\n",
      "Epoch: 2, Steps: 266 | Train Loss: 0.2250442 Vali Loss: 0.6878285 Test Loss: 0.6064754\n",
      "Validation loss decreased (0.697573 --> 0.687828).  Saving model ...\n",
      "Updating learning rate to 5e-05\n",
      "\titers: 100, epoch: 3 | loss: 0.1426278\n",
      "\tspeed: 0.2208s/iter; left time: 213.0813s\n",
      "\titers: 200, epoch: 3 | loss: 0.1378877\n",
      "\tspeed: 0.0986s/iter; left time: 85.2890s\n",
      "Epoch: 3 cost time: 26.186885356903076\n",
      "Epoch: 3, Steps: 266 | Train Loss: 0.1466927 Vali Loss: 0.8694387 Test Loss: 0.7344322\n",
      "EarlyStopping counter: 1 out of 3\n",
      "Updating learning rate to 2.5e-05\n",
      "\titers: 100, epoch: 4 | loss: 0.1152753\n",
      "\tspeed: 0.2173s/iter; left time: 151.8671s\n",
      "\titers: 200, epoch: 4 | loss: 0.1112468\n",
      "\tspeed: 0.0986s/iter; left time: 59.0752s\n",
      "Epoch: 4 cost time: 26.200122594833374\n",
      "Epoch: 4, Steps: 266 | Train Loss: 0.1137699 Vali Loss: 0.8572718 Test Loss: 0.7582815\n",
      "EarlyStopping counter: 2 out of 3\n",
      "Updating learning rate to 1.25e-05\n",
      "\titers: 100, epoch: 5 | loss: 0.1025786\n",
      "\tspeed: 0.2172s/iter; left time: 94.0605s\n",
      "\titers: 200, epoch: 5 | loss: 0.0885965\n",
      "\tspeed: 0.0985s/iter; left time: 32.8147s\n",
      "Epoch: 5 cost time: 26.179872274398804\n",
      "Epoch: 5, Steps: 266 | Train Loss: 0.1011608 Vali Loss: 0.8279732 Test Loss: 0.6766624\n",
      "EarlyStopping counter: 3 out of 3\n",
      "Early stopping\n",
      "test 2857\n"
     ]
    },
    {
     "name": "stderr",
     "output_type": "stream",
     "text": [
      " 40%|████      | 4/10 [09:17<14:23, 143.90s/it]"
     ]
    },
    {
     "name": "stdout",
     "output_type": "stream",
     "text": [
      "test shape: (89, 32, 24, 7) (89, 32, 24, 7)\n",
      "test shape: (2848, 24, 7) (2848, 24, 7)\n",
      "mse:0.6064753532409668, mae:0.5854934453964233\n",
      "Use GPU: cuda:0\n",
      "train 8521\n",
      "val 2857\n",
      "test 2857\n",
      "\titers: 100, epoch: 1 | loss: 0.4673136\n",
      "\tspeed: 0.0982s/iter; left time: 147.0049s\n",
      "\titers: 200, epoch: 1 | loss: 0.3101057\n",
      "\tspeed: 0.0988s/iter; left time: 138.0668s\n",
      "Epoch: 1 cost time: 26.25357937812805\n",
      "Epoch: 1, Steps: 266 | Train Loss: 0.3649562 Vali Loss: 0.7128146 Test Loss: 0.5870074\n",
      "Validation loss decreased (inf --> 0.712815).  Saving model ...\n",
      "Updating learning rate to 0.0001\n",
      "\titers: 100, epoch: 2 | loss: 0.2468911\n",
      "\tspeed: 0.2210s/iter; left time: 272.0162s\n",
      "\titers: 200, epoch: 2 | loss: 0.2228130\n",
      "\tspeed: 0.0988s/iter; left time: 111.7395s\n",
      "Epoch: 2 cost time: 26.245766401290894\n",
      "Epoch: 2, Steps: 266 | Train Loss: 0.2249727 Vali Loss: 0.8135096 Test Loss: 0.7552004\n",
      "EarlyStopping counter: 1 out of 3\n",
      "Updating learning rate to 5e-05\n",
      "\titers: 100, epoch: 3 | loss: 0.1485886\n",
      "\tspeed: 0.2177s/iter; left time: 210.1129s\n",
      "\titers: 200, epoch: 3 | loss: 0.1680647\n",
      "\tspeed: 0.0989s/iter; left time: 85.5160s\n",
      "Epoch: 3 cost time: 26.242363214492798\n",
      "Epoch: 3, Steps: 266 | Train Loss: 0.1478308 Vali Loss: 0.8006547 Test Loss: 0.7584993\n",
      "EarlyStopping counter: 2 out of 3\n",
      "Updating learning rate to 2.5e-05\n",
      "\titers: 100, epoch: 4 | loss: 0.1195615\n",
      "\tspeed: 0.2176s/iter; left time: 152.1224s\n",
      "\titers: 200, epoch: 4 | loss: 0.1047487\n",
      "\tspeed: 0.0989s/iter; left time: 59.2384s\n",
      "Epoch: 4 cost time: 26.261099815368652\n",
      "Epoch: 4, Steps: 266 | Train Loss: 0.1131013 Vali Loss: 0.8416376 Test Loss: 0.7649618\n",
      "EarlyStopping counter: 3 out of 3\n",
      "Early stopping\n",
      "test 2857\n"
     ]
    },
    {
     "name": "stderr",
     "output_type": "stream",
     "text": [
      " 50%|█████     | 5/10 [11:28<11:36, 139.35s/it]"
     ]
    },
    {
     "name": "stdout",
     "output_type": "stream",
     "text": [
      "test shape: (89, 32, 24, 7) (89, 32, 24, 7)\n",
      "test shape: (2848, 24, 7) (2848, 24, 7)\n",
      "mse:0.587007462978363, mae:0.5783356428146362\n",
      "Use GPU: cuda:0\n",
      "train 8521\n",
      "val 2857\n",
      "test 2857\n",
      "\titers: 100, epoch: 1 | loss: 0.3628424\n",
      "\tspeed: 0.0981s/iter; left time: 146.8735s\n",
      "\titers: 200, epoch: 1 | loss: 0.3357411\n",
      "\tspeed: 0.0987s/iter; left time: 137.9069s\n",
      "Epoch: 1 cost time: 26.221778392791748\n",
      "Epoch: 1, Steps: 266 | Train Loss: 0.3779294 Vali Loss: 0.6716319 Test Loss: 0.6823496\n",
      "Validation loss decreased (inf --> 0.671632).  Saving model ...\n",
      "Updating learning rate to 0.0001\n",
      "\titers: 100, epoch: 2 | loss: 0.2104084\n",
      "\tspeed: 0.2207s/iter; left time: 271.7256s\n",
      "\titers: 200, epoch: 2 | loss: 0.2022601\n",
      "\tspeed: 0.0988s/iter; left time: 111.7492s\n",
      "Epoch: 2 cost time: 26.2344913482666\n",
      "Epoch: 2, Steps: 266 | Train Loss: 0.2246008 Vali Loss: 0.7712892 Test Loss: 0.6667241\n",
      "EarlyStopping counter: 1 out of 3\n",
      "Updating learning rate to 5e-05\n",
      "\titers: 100, epoch: 3 | loss: 0.1483680\n",
      "\tspeed: 0.2172s/iter; left time: 209.5825s\n",
      "\titers: 200, epoch: 3 | loss: 0.1392818\n",
      "\tspeed: 0.0989s/iter; left time: 85.5101s\n",
      "Epoch: 3 cost time: 26.228171586990356\n",
      "Epoch: 3, Steps: 266 | Train Loss: 0.1464306 Vali Loss: 0.8123216 Test Loss: 0.7083820\n",
      "EarlyStopping counter: 2 out of 3\n",
      "Updating learning rate to 2.5e-05\n",
      "\titers: 100, epoch: 4 | loss: 0.1218808\n",
      "\tspeed: 0.2176s/iter; left time: 152.0726s\n",
      "\titers: 200, epoch: 4 | loss: 0.1148394\n",
      "\tspeed: 0.0988s/iter; left time: 59.1579s\n",
      "Epoch: 4 cost time: 26.22767186164856\n",
      "Epoch: 4, Steps: 266 | Train Loss: 0.1138741 Vali Loss: 0.8153544 Test Loss: 0.7238255\n",
      "EarlyStopping counter: 3 out of 3\n",
      "Early stopping\n",
      "test 2857\n"
     ]
    },
    {
     "name": "stderr",
     "output_type": "stream",
     "text": [
      " 60%|██████    | 6/10 [13:39<09:06, 136.55s/it]"
     ]
    },
    {
     "name": "stdout",
     "output_type": "stream",
     "text": [
      "test shape: (89, 32, 24, 7) (89, 32, 24, 7)\n",
      "test shape: (2848, 24, 7) (2848, 24, 7)\n",
      "mse:0.6823496222496033, mae:0.6331191658973694\n",
      "Use GPU: cuda:0\n",
      "train 8521\n",
      "val 2857\n",
      "test 2857\n",
      "\titers: 100, epoch: 1 | loss: 0.3377554\n",
      "\tspeed: 0.0981s/iter; left time: 146.8712s\n",
      "\titers: 200, epoch: 1 | loss: 0.2950778\n",
      "\tspeed: 0.0987s/iter; left time: 137.8460s\n",
      "Epoch: 1 cost time: 26.210034370422363\n",
      "Epoch: 1, Steps: 266 | Train Loss: 0.3702220 Vali Loss: 0.6924880 Test Loss: 0.6286647\n",
      "Validation loss decreased (inf --> 0.692488).  Saving model ...\n",
      "Updating learning rate to 0.0001\n",
      "\titers: 100, epoch: 2 | loss: 0.2273576\n",
      "\tspeed: 0.2204s/iter; left time: 271.2558s\n",
      "\titers: 200, epoch: 2 | loss: 0.1880220\n",
      "\tspeed: 0.0988s/iter; left time: 111.7229s\n",
      "Epoch: 2 cost time: 26.243769645690918\n",
      "Epoch: 2, Steps: 266 | Train Loss: 0.2191614 Vali Loss: 0.7599992 Test Loss: 0.6444676\n",
      "EarlyStopping counter: 1 out of 3\n",
      "Updating learning rate to 5e-05\n",
      "\titers: 100, epoch: 3 | loss: 0.1293517\n",
      "\tspeed: 0.2177s/iter; left time: 210.0816s\n",
      "\titers: 200, epoch: 3 | loss: 0.1131288\n",
      "\tspeed: 0.0989s/iter; left time: 85.5216s\n",
      "Epoch: 3 cost time: 26.259679555892944\n",
      "Epoch: 3, Steps: 266 | Train Loss: 0.1431905 Vali Loss: 0.7674795 Test Loss: 0.5879047\n",
      "EarlyStopping counter: 2 out of 3\n",
      "Updating learning rate to 2.5e-05\n",
      "\titers: 100, epoch: 4 | loss: 0.1056611\n",
      "\tspeed: 0.2177s/iter; left time: 152.1548s\n",
      "\titers: 200, epoch: 4 | loss: 0.0997150\n",
      "\tspeed: 0.0987s/iter; left time: 59.1508s\n",
      "Epoch: 4 cost time: 26.229011297225952\n",
      "Epoch: 4, Steps: 266 | Train Loss: 0.1125097 Vali Loss: 0.8018298 Test Loss: 0.6587299\n",
      "EarlyStopping counter: 3 out of 3\n",
      "Early stopping\n",
      "test 2857\n"
     ]
    },
    {
     "name": "stderr",
     "output_type": "stream",
     "text": [
      " 70%|███████   | 7/10 [15:50<06:44, 134.86s/it]"
     ]
    },
    {
     "name": "stdout",
     "output_type": "stream",
     "text": [
      "test shape: (89, 32, 24, 7) (89, 32, 24, 7)\n",
      "test shape: (2848, 24, 7) (2848, 24, 7)\n",
      "mse:0.6286647319793701, mae:0.583227276802063\n",
      "Use GPU: cuda:0\n",
      "train 8521\n",
      "val 2857\n",
      "test 2857\n",
      "\titers: 100, epoch: 1 | loss: 0.3179550\n",
      "\tspeed: 0.0981s/iter; left time: 146.9280s\n",
      "\titers: 200, epoch: 1 | loss: 0.3191906\n",
      "\tspeed: 0.0986s/iter; left time: 137.7668s\n",
      "Epoch: 1 cost time: 26.220900297164917\n",
      "Epoch: 1, Steps: 266 | Train Loss: 0.3713983 Vali Loss: 0.6791598 Test Loss: 0.7395889\n",
      "Validation loss decreased (inf --> 0.679160).  Saving model ...\n",
      "Updating learning rate to 0.0001\n",
      "\titers: 100, epoch: 2 | loss: 0.2516011\n",
      "\tspeed: 0.2210s/iter; left time: 272.0310s\n",
      "\titers: 200, epoch: 2 | loss: 0.2315828\n",
      "\tspeed: 0.0988s/iter; left time: 111.7688s\n",
      "Epoch: 2 cost time: 26.25679326057434\n",
      "Epoch: 2, Steps: 266 | Train Loss: 0.2254041 Vali Loss: 0.7798974 Test Loss: 0.7133707\n",
      "EarlyStopping counter: 1 out of 3\n",
      "Updating learning rate to 5e-05\n",
      "\titers: 100, epoch: 3 | loss: 0.1535645\n",
      "\tspeed: 0.2176s/iter; left time: 209.9514s\n",
      "\titers: 200, epoch: 3 | loss: 0.1210844\n",
      "\tspeed: 0.0987s/iter; left time: 85.4051s\n",
      "Epoch: 3 cost time: 26.216984272003174\n",
      "Epoch: 3, Steps: 266 | Train Loss: 0.1466242 Vali Loss: 0.7955779 Test Loss: 0.7975618\n",
      "EarlyStopping counter: 2 out of 3\n",
      "Updating learning rate to 2.5e-05\n",
      "\titers: 100, epoch: 4 | loss: 0.1149869\n",
      "\tspeed: 0.2174s/iter; left time: 151.9704s\n",
      "\titers: 200, epoch: 4 | loss: 0.0910252\n",
      "\tspeed: 0.0987s/iter; left time: 59.1059s\n",
      "Epoch: 4 cost time: 26.20841646194458\n",
      "Epoch: 4, Steps: 266 | Train Loss: 0.1144832 Vali Loss: 0.8248366 Test Loss: 0.8424984\n",
      "EarlyStopping counter: 3 out of 3\n",
      "Early stopping\n",
      "test 2857\n"
     ]
    },
    {
     "name": "stderr",
     "output_type": "stream",
     "text": [
      " 80%|████████  | 8/10 [18:01<04:27, 133.65s/it]"
     ]
    },
    {
     "name": "stdout",
     "output_type": "stream",
     "text": [
      "test shape: (89, 32, 24, 7) (89, 32, 24, 7)\n",
      "test shape: (2848, 24, 7) (2848, 24, 7)\n",
      "mse:0.7395888566970825, mae:0.6655644178390503\n",
      "Use GPU: cuda:0\n",
      "train 8521\n",
      "val 2857\n",
      "test 2857\n",
      "\titers: 100, epoch: 1 | loss: 0.4128161\n",
      "\tspeed: 0.0981s/iter; left time: 146.8562s\n",
      "\titers: 200, epoch: 1 | loss: 0.3128939\n",
      "\tspeed: 0.0988s/iter; left time: 137.9772s\n",
      "Epoch: 1 cost time: 26.2197105884552\n",
      "Epoch: 1, Steps: 266 | Train Loss: 0.3708971 Vali Loss: 0.7082134 Test Loss: 0.7195722\n",
      "Validation loss decreased (inf --> 0.708213).  Saving model ...\n",
      "Updating learning rate to 0.0001\n",
      "\titers: 100, epoch: 2 | loss: 0.2648109\n",
      "\tspeed: 0.2210s/iter; left time: 272.0908s\n",
      "\titers: 200, epoch: 2 | loss: 0.1894698\n",
      "\tspeed: 0.0989s/iter; left time: 111.8022s\n",
      "Epoch: 2 cost time: 26.265047311782837\n",
      "Epoch: 2, Steps: 266 | Train Loss: 0.2254133 Vali Loss: 0.7771211 Test Loss: 0.7088330\n",
      "EarlyStopping counter: 1 out of 3\n",
      "Updating learning rate to 5e-05\n",
      "\titers: 100, epoch: 3 | loss: 0.1449258\n",
      "\tspeed: 0.2176s/iter; left time: 209.9940s\n",
      "\titers: 200, epoch: 3 | loss: 0.1412292\n",
      "\tspeed: 0.0988s/iter; left time: 85.4674s\n",
      "Epoch: 3 cost time: 26.248124599456787\n",
      "Epoch: 3, Steps: 266 | Train Loss: 0.1452153 Vali Loss: 0.8076618 Test Loss: 0.7273310\n",
      "EarlyStopping counter: 2 out of 3\n",
      "Updating learning rate to 2.5e-05\n",
      "\titers: 100, epoch: 4 | loss: 0.1125757\n",
      "\tspeed: 0.2175s/iter; left time: 152.0384s\n",
      "\titers: 200, epoch: 4 | loss: 0.1199398\n",
      "\tspeed: 0.0989s/iter; left time: 59.2179s\n",
      "Epoch: 4 cost time: 26.247658014297485\n",
      "Epoch: 4, Steps: 266 | Train Loss: 0.1131340 Vali Loss: 0.7955799 Test Loss: 0.7099230\n",
      "EarlyStopping counter: 3 out of 3\n",
      "Early stopping\n",
      "test 2857\n"
     ]
    },
    {
     "name": "stderr",
     "output_type": "stream",
     "text": [
      " 90%|█████████ | 9/10 [20:13<02:13, 133.07s/it]"
     ]
    },
    {
     "name": "stdout",
     "output_type": "stream",
     "text": [
      "test shape: (89, 32, 24, 7) (89, 32, 24, 7)\n",
      "test shape: (2848, 24, 7) (2848, 24, 7)\n",
      "mse:0.7195721864700317, mae:0.6466553211212158\n",
      "Use GPU: cuda:0\n",
      "train 8521\n",
      "val 2857\n",
      "test 2857\n",
      "\titers: 100, epoch: 1 | loss: 0.4200968\n",
      "\tspeed: 0.0982s/iter; left time: 147.0085s\n",
      "\titers: 200, epoch: 1 | loss: 0.3428781\n",
      "\tspeed: 0.0988s/iter; left time: 137.9624s\n",
      "Epoch: 1 cost time: 26.23542881011963\n",
      "Epoch: 1, Steps: 266 | Train Loss: 0.3809498 Vali Loss: 0.7209316 Test Loss: 0.6914836\n",
      "Validation loss decreased (inf --> 0.720932).  Saving model ...\n",
      "Updating learning rate to 0.0001\n",
      "\titers: 100, epoch: 2 | loss: 0.2610522\n",
      "\tspeed: 0.2205s/iter; left time: 271.4474s\n",
      "\titers: 200, epoch: 2 | loss: 0.1898847\n",
      "\tspeed: 0.0987s/iter; left time: 111.5809s\n",
      "Epoch: 2 cost time: 26.207016468048096\n",
      "Epoch: 2, Steps: 266 | Train Loss: 0.2255620 Vali Loss: 0.7653608 Test Loss: 0.7583305\n",
      "EarlyStopping counter: 1 out of 3\n",
      "Updating learning rate to 5e-05\n",
      "\titers: 100, epoch: 3 | loss: 0.1480596\n",
      "\tspeed: 0.2175s/iter; left time: 209.8984s\n",
      "\titers: 200, epoch: 3 | loss: 0.1509474\n",
      "\tspeed: 0.0986s/iter; left time: 85.3074s\n",
      "Epoch: 3 cost time: 26.204923391342163\n",
      "Epoch: 3, Steps: 266 | Train Loss: 0.1456100 Vali Loss: 0.7859469 Test Loss: 0.7491490\n",
      "EarlyStopping counter: 2 out of 3\n",
      "Updating learning rate to 2.5e-05\n",
      "\titers: 100, epoch: 4 | loss: 0.1193030\n",
      "\tspeed: 0.2174s/iter; left time: 151.9482s\n",
      "\titers: 200, epoch: 4 | loss: 0.1040716\n",
      "\tspeed: 0.0987s/iter; left time: 59.1326s\n",
      "Epoch: 4 cost time: 26.21142816543579\n",
      "Epoch: 4, Steps: 266 | Train Loss: 0.1124559 Vali Loss: 0.7889790 Test Loss: 0.6962132\n",
      "EarlyStopping counter: 3 out of 3\n",
      "Early stopping\n",
      "test 2857\n"
     ]
    },
    {
     "name": "stderr",
     "output_type": "stream",
     "text": [
      "100%|██████████| 10/10 [22:24<00:00, 134.47s/it]"
     ]
    },
    {
     "name": "stdout",
     "output_type": "stream",
     "text": [
      "test shape: (89, 32, 24, 7) (89, 32, 24, 7)\n",
      "test shape: (2848, 24, 7) (2848, 24, 7)\n",
      "mse:0.6914834976196289, mae:0.6413654685020447\n"
     ]
    },
    {
     "name": "stderr",
     "output_type": "stream",
     "text": [
      "\n"
     ]
    }
   ],
   "source": [
    "def fit_model(architecture_dict, history, n_iter = 10):\n",
    "    api_key = os.environ[\"mistral\"]\n",
    "    model = \"mistral-large-latest\"\n",
    "    client = Mistral(api_key=api_key)\n",
    "    \n",
    "    history_ = history.copy()\n",
    "    result = {\"architecture_code\": [], \"mse\": []}\n",
    "    \n",
    "    for i in tqdm(range(n_iter)):\n",
    "        user = user_prompt.format(\n",
    "            history = history_.to_markdown(),\n",
    "            candidate = \"\\n\".join(list(architecture_dict.keys()))\n",
    "        )\n",
    "        \n",
    "        \n",
    "        messages = [\n",
    "             {\n",
    "                \"role\": \"system\",\n",
    "                \"content\": system,\n",
    "            },\n",
    "            {\n",
    "                \"role\": \"user\",\n",
    "                \"content\": user\n",
    "            }\n",
    "        ]\n",
    "        chat_response = client.chat.complete(\n",
    "              model = model,\n",
    "              messages = messages,\n",
    "              response_format = {\n",
    "                  \"type\": \"json_object\",\n",
    "              }\n",
    "        )\n",
    "\n",
    "        new_arch = json.loads(chat_response.choices[0].message.content)[\"architecture\"]\n",
    "\n",
    "        hist = {\"architecture_code\": [], \"mse\": []}\n",
    "        config = dotdict(architecture_dict[new_arch])\n",
    "        Exp = Exp_Informer\n",
    "        exp = Exp(config)\n",
    "\n",
    "        # train\n",
    "        res_train = exp.train(new_arch)\n",
    "        \n",
    "        # test\n",
    "        res_test = exp.test(new_arch)\n",
    "        torch.cuda.empty_cache()\n",
    "        \n",
    "        \n",
    "        metrics = np.load(f'/kaggle/working/results/{new_arch}/metrics.npy')\n",
    "        mae, mse, rmse, mape, mspe = metrics\n",
    "        \n",
    "        hist[\"architecture_code\"].append(new_arch)\n",
    "        hist[\"mse\"].append(mse)\n",
    "        \n",
    "        result[\"architecture_code\"].append(new_arch)\n",
    "        result[\"mse\"].append(mse)\n",
    "\n",
    "        history_ = pd.concat([history_, pd.DataFrame(hist)], ignore_index = True)\n",
    "        \n",
    "         \n",
    "    return pd.DataFrame(result), history_\n",
    "\n",
    "\n",
    "\n",
    "res, hist = fit_model(architecture, history, n_iter = 10)"
   ]
  },
  {
   "cell_type": "code",
   "execution_count": null,
   "metadata": {
    "trusted": true
   },
   "outputs": [],
   "source": []
  },
  {
   "cell_type": "code",
   "execution_count": 133,
   "metadata": {
    "execution": {
     "iopub.execute_input": "2025-10-05T16:10:51.846239Z",
     "iopub.status.busy": "2025-10-05T16:10:51.846039Z",
     "iopub.status.idle": "2025-10-05T16:10:51.862480Z",
     "shell.execute_reply": "2025-10-05T16:10:51.861722Z",
     "shell.execute_reply.started": "2025-10-05T16:10:51.846223Z"
    },
    "trusted": true
   },
   "outputs": [
    {
     "data": {
      "text/html": [
       "<div>\n",
       "<style scoped>\n",
       "    .dataframe tbody tr th:only-of-type {\n",
       "        vertical-align: middle;\n",
       "    }\n",
       "\n",
       "    .dataframe tbody tr th {\n",
       "        vertical-align: top;\n",
       "    }\n",
       "\n",
       "    .dataframe thead th {\n",
       "        text-align: right;\n",
       "    }\n",
       "</style>\n",
       "<table border=\"1\" class=\"dataframe\">\n",
       "  <thead>\n",
       "    <tr style=\"text-align: right;\">\n",
       "      <th></th>\n",
       "      <th>architecture_code</th>\n",
       "      <th>mse</th>\n",
       "    </tr>\n",
       "  </thead>\n",
       "  <tbody>\n",
       "    <tr>\n",
       "      <th>0</th>\n",
       "      <td>11111000</td>\n",
       "      <td>0.702401</td>\n",
       "    </tr>\n",
       "    <tr>\n",
       "      <th>1</th>\n",
       "      <td>11111000</td>\n",
       "      <td>0.593082</td>\n",
       "    </tr>\n",
       "    <tr>\n",
       "      <th>2</th>\n",
       "      <td>01111000</td>\n",
       "      <td>0.660586</td>\n",
       "    </tr>\n",
       "    <tr>\n",
       "      <th>3</th>\n",
       "      <td>01111000</td>\n",
       "      <td>0.606475</td>\n",
       "    </tr>\n",
       "    <tr>\n",
       "      <th>4</th>\n",
       "      <td>01111000</td>\n",
       "      <td>0.587007</td>\n",
       "    </tr>\n",
       "    <tr>\n",
       "      <th>5</th>\n",
       "      <td>01111000</td>\n",
       "      <td>0.682350</td>\n",
       "    </tr>\n",
       "    <tr>\n",
       "      <th>6</th>\n",
       "      <td>01111000</td>\n",
       "      <td>0.628665</td>\n",
       "    </tr>\n",
       "    <tr>\n",
       "      <th>7</th>\n",
       "      <td>01111000</td>\n",
       "      <td>0.739589</td>\n",
       "    </tr>\n",
       "    <tr>\n",
       "      <th>8</th>\n",
       "      <td>01111000</td>\n",
       "      <td>0.719572</td>\n",
       "    </tr>\n",
       "    <tr>\n",
       "      <th>9</th>\n",
       "      <td>01111000</td>\n",
       "      <td>0.691483</td>\n",
       "    </tr>\n",
       "  </tbody>\n",
       "</table>\n",
       "</div>"
      ],
      "text/plain": [
       "  architecture_code       mse\n",
       "0          11111000  0.702401\n",
       "1          11111000  0.593082\n",
       "2          01111000  0.660586\n",
       "3          01111000  0.606475\n",
       "4          01111000  0.587007\n",
       "5          01111000  0.682350\n",
       "6          01111000  0.628665\n",
       "7          01111000  0.739589\n",
       "8          01111000  0.719572\n",
       "9          01111000  0.691483"
      ]
     },
     "execution_count": 133,
     "metadata": {},
     "output_type": "execute_result"
    }
   ],
   "source": [
    "res"
   ]
  },
  {
   "cell_type": "code",
   "execution_count": null,
   "metadata": {
    "trusted": true
   },
   "outputs": [],
   "source": []
  },
  {
   "cell_type": "code",
   "execution_count": null,
   "metadata": {
    "trusted": true
   },
   "outputs": [],
   "source": []
  },
  {
   "cell_type": "code",
   "execution_count": 126,
   "metadata": {
    "execution": {
     "iopub.execute_input": "2025-10-05T15:29:39.466662Z",
     "iopub.status.busy": "2025-10-05T15:29:39.466089Z",
     "iopub.status.idle": "2025-10-05T15:29:40.585267Z",
     "shell.execute_reply": "2025-10-05T15:29:40.584545Z",
     "shell.execute_reply.started": "2025-10-05T15:29:39.466637Z"
    },
    "trusted": true
   },
   "outputs": [],
   "source": [
    "api_key = os.environ[\"mistral\"]\n",
    "model = \"mistral-large-latest\"\n",
    "\n",
    "client = Mistral(api_key=api_key)\n",
    "messages = [\n",
    "     {\n",
    "        \"role\": \"system\",\n",
    "        \"content\": system,\n",
    "    },\n",
    "    {\n",
    "        \"role\": \"user\",\n",
    "        \"content\": user\n",
    "    }\n",
    "]\n",
    "chat_response = client.chat.complete(\n",
    "      model = model,\n",
    "      messages = messages,\n",
    "      response_format = {\n",
    "          \"type\": \"json_object\",\n",
    "      }\n",
    ")"
   ]
  },
  {
   "cell_type": "code",
   "execution_count": 127,
   "metadata": {
    "execution": {
     "iopub.execute_input": "2025-10-05T15:29:41.234928Z",
     "iopub.status.busy": "2025-10-05T15:29:41.234221Z",
     "iopub.status.idle": "2025-10-05T15:29:41.238259Z",
     "shell.execute_reply": "2025-10-05T15:29:41.237542Z",
     "shell.execute_reply.started": "2025-10-05T15:29:41.234896Z"
    },
    "trusted": true
   },
   "outputs": [],
   "source": []
  },
  {
   "cell_type": "code",
   "execution_count": 128,
   "metadata": {
    "execution": {
     "iopub.execute_input": "2025-10-05T15:29:41.388345Z",
     "iopub.status.busy": "2025-10-05T15:29:41.388073Z",
     "iopub.status.idle": "2025-10-05T15:29:41.394456Z",
     "shell.execute_reply": "2025-10-05T15:29:41.393551Z",
     "shell.execute_reply.started": "2025-10-05T15:29:41.388317Z"
    },
    "trusted": true
   },
   "outputs": [
    {
     "data": {
      "text/plain": [
       "{'architecture': '01111100'}"
      ]
     },
     "execution_count": 128,
     "metadata": {},
     "output_type": "execute_result"
    }
   ],
   "source": [
    "json.loads(chat_response.choices[0].message.content)"
   ]
  },
  {
   "cell_type": "code",
   "execution_count": null,
   "metadata": {
    "trusted": true
   },
   "outputs": [],
   "source": []
  }
 ],
 "metadata": {
  "kaggle": {
   "accelerator": "gpu",
   "dataSources": [],
   "dockerImageVersionId": 31090,
   "isGpuEnabled": true,
   "isInternetEnabled": true,
   "language": "python",
   "sourceType": "notebook"
  },
  "kernelspec": {
   "display_name": "Python 3",
   "language": "python",
   "name": "python3"
  },
  "language_info": {
   "codemirror_mode": {
    "name": "ipython",
    "version": 3
   },
   "file_extension": ".py",
   "mimetype": "text/x-python",
   "name": "python",
   "nbconvert_exporter": "python",
   "pygments_lexer": "ipython3",
   "version": "3.11.13"
  }
 },
 "nbformat": 4,
 "nbformat_minor": 4
}
